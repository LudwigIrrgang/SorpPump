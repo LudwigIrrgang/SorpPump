{
 "cells": [
  {
   "cell_type": "code",
   "execution_count": 1,
   "metadata": {},
   "outputs": [
    {
     "name": "stdout",
     "output_type": "stream",
     "text": [
      "w mit Druck von Patek: 0.6461114578247071\n",
      "Concentration can not be calculated - loop exceeded limits\n"
     ]
    },
    {
     "ename": "SystemExit",
     "evalue": "",
     "output_type": "error",
     "traceback": [
      "An exception has occurred, use %tb to see the full traceback.\n",
      "\u001b[1;31mSystemExit\u001b[0m\n"
     ]
    },
    {
     "name": "stderr",
     "output_type": "stream",
     "text": [
      "C:\\Users\\Steffen\\AppData\\Local\\Packages\\PythonSoftwareFoundation.Python.3.10_qbz5n2kfra8p0\\LocalCache\\local-packages\\Python310\\site-packages\\IPython\\core\\interactiveshell.py:3441: UserWarning: To exit: use 'exit', 'quit', or Ctrl-D.\n",
      "  warn(\"To exit: use 'exit', 'quit', or Ctrl-D.\", stacklevel=1)\n"
     ]
    }
   ],
   "source": [
    "from Fluids import NH3H2O \n",
    "from ctREFPROP.ctREFPROP import REFPROPFunctionLibrary\n",
    "import os\n",
    "\n",
    "os.environ['RPPREFIX'] = r'C:/Program Files (x86)/REFPROP'\n",
    "RP = REFPROPFunctionLibrary(os.environ['RPPREFIX'])\n",
    "p_cond=1389966.069 # 1389165.3069846542\n",
    "\n",
    "\n",
    "T_sol_des_outI=330.15 # 410.15\n",
    "\n",
    "print(\"w mit Druck von Patek:\", NH3H2O.NH3inSolution_Calc_X_PT(p_cond, T_sol_des_outI))\n",
    "w_test = NH3H2O.NH3inSolution_Calc_X_PT_REFPROP(p_cond,T_sol_des_outI)\n",
    "\n",
    "print(\"w Refprop:\", w_test)"
   ]
  },
  {
   "cell_type": "code",
   "execution_count": 6,
   "metadata": {},
   "outputs": [
    {
     "name": "stdout",
     "output_type": "stream",
     "text": [
      "Concentration can not be calculated - loop exceeded limits\n"
     ]
    },
    {
     "ename": "SystemExit",
     "evalue": "",
     "output_type": "error",
     "traceback": [
      "An exception has occurred, use %tb to see the full traceback.\n",
      "\u001b[1;31mSystemExit\u001b[0m\n"
     ]
    },
    {
     "name": "stderr",
     "output_type": "stream",
     "text": [
      "C:\\Users\\Steffen\\AppData\\Local\\Packages\\PythonSoftwareFoundation.Python.3.10_qbz5n2kfra8p0\\LocalCache\\local-packages\\Python310\\site-packages\\IPython\\core\\interactiveshell.py:3441: UserWarning: To exit: use 'exit', 'quit', or Ctrl-D.\n",
      "  warn(\"To exit: use 'exit', 'quit', or Ctrl-D.\", stacklevel=1)\n"
     ]
    }
   ],
   "source": [
    "p_cond = 1389165.3069846542\n",
    "\n",
    "T_sol_des_outI = 410.15\n",
    "\n",
    "\n",
    "w_test = NH3H2O.NH3inSolution_Calc_X_PT_REFPROP(p_cond,T_sol_des_outI)\n",
    "print(\"w Refprop:\", w_test)"
   ]
  },
  {
   "cell_type": "code",
   "execution_count": 7,
   "metadata": {},
   "outputs": [
    {
     "ename": "ValueError",
     "evalue": "f(a) and f(b) must have different signs",
     "output_type": "error",
     "traceback": [
      "\u001b[1;31m---------------------------------------------------------------------------\u001b[0m",
      "\u001b[1;31mValueError\u001b[0m                                Traceback (most recent call last)",
      "File \u001b[1;32mc:\\Users\\Steffen\\Documents\\GitHub\\SorpPump\\Python\\Fluids\\NH3H2O.py:472\u001b[0m, in \u001b[0;36mCalc_p_from_T_X\u001b[1;34m(T, X, p_start)\u001b[0m\n\u001b[0;32m    471\u001b[0m \u001b[39mtry\u001b[39;00m:\n\u001b[1;32m--> 472\u001b[0m     p_fit \u001b[39m=\u001b[39m ridder(problem, \u001b[39m100\u001b[39;49m, \u001b[39m4_000_000\u001b[39;49m, args\u001b[39m=\u001b[39;49m(T,X))\n\u001b[0;32m    473\u001b[0m \u001b[39mexcept\u001b[39;00m:\n",
      "File \u001b[1;32m~\\AppData\\Local\\Packages\\PythonSoftwareFoundation.Python.3.10_qbz5n2kfra8p0\\LocalCache\\local-packages\\Python310\\site-packages\\scipy\\optimize\\_zeros_py.py:653\u001b[0m, in \u001b[0;36mridder\u001b[1;34m(f, a, b, args, xtol, rtol, maxiter, full_output, disp)\u001b[0m\n\u001b[0;32m    652\u001b[0m     \u001b[39mraise\u001b[39;00m \u001b[39mValueError\u001b[39;00m(\u001b[39m\"\u001b[39m\u001b[39mrtol too small (\u001b[39m\u001b[39m%g\u001b[39;00m\u001b[39m < \u001b[39m\u001b[39m%g\u001b[39;00m\u001b[39m)\u001b[39m\u001b[39m\"\u001b[39m \u001b[39m%\u001b[39m (rtol, _rtol))\n\u001b[1;32m--> 653\u001b[0m r \u001b[39m=\u001b[39m _zeros\u001b[39m.\u001b[39;49m_ridder(f, a, b, xtol, rtol, maxiter, args, full_output, disp)\n\u001b[0;32m    654\u001b[0m \u001b[39mreturn\u001b[39;00m results_c(full_output, r)\n",
      "\u001b[1;31mValueError\u001b[0m: f(a) and f(b) must have different signs",
      "\nDuring handling of the above exception, another exception occurred:\n",
      "\u001b[1;31mValueError\u001b[0m                                Traceback (most recent call last)",
      "Cell \u001b[1;32mIn [7], line 1\u001b[0m\n\u001b[1;32m----> 1\u001b[0m \u001b[39mprint\u001b[39m(\u001b[39m\"\u001b[39m\u001b[39mw mit Druck von Patek:\u001b[39m\u001b[39m\"\u001b[39m, NH3H2O\u001b[39m.\u001b[39;49mNH3inSolution_Calc_X_PT(p_cond, T_sol_des_outI))\n",
      "File \u001b[1;32mc:\\Users\\Steffen\\Documents\\GitHub\\SorpPump\\Python\\Fluids\\NH3H2O.py:506\u001b[0m, in \u001b[0;36mNH3inSolution_Calc_X_PT\u001b[1;34m(pressure, Temp)\u001b[0m\n\u001b[0;32m    504\u001b[0m f \u001b[39m=\u001b[39m \u001b[39mlambda\u001b[39;00m w : pressure \u001b[39m-\u001b[39m Calc_p_from_T_X(Temp,NH3_conversion_w_X(\u001b[39m\"\u001b[39m\u001b[39mX\u001b[39m\u001b[39m\"\u001b[39m, w)) \u001b[39m#- RP.REFPROPdll(hFld=\"AMMONIA;WATER\", hIn=\"TQ\", hOut= \"P\", iUnits=2,iMass=1, iFlag=0, a=Temp, b=0, z=[w, (1-w)]).Output[0]*1000 #\u001b[39;00m\n\u001b[0;32m    505\u001b[0m \u001b[39mwhile\u001b[39;00m \u001b[39mabs\u001b[39m(f(b))\u001b[39m>\u001b[39m \u001b[39m10\u001b[39m: \u001b[39m# coresponds to 0.1 kPa\u001b[39;00m\n\u001b[1;32m--> 506\u001b[0m     \u001b[39mif\u001b[39;00m f((a\u001b[39m+\u001b[39;49mb)\u001b[39m/\u001b[39;49m\u001b[39m2\u001b[39;49m)\u001b[39m<\u001b[39m\u001b[39m0\u001b[39m: \u001b[39m# half slitting technique\u001b[39;00m\n\u001b[0;32m    507\u001b[0m         a \u001b[39m=\u001b[39m (a\u001b[39m+\u001b[39mb)\u001b[39m/\u001b[39m\u001b[39m2\u001b[39m\n\u001b[0;32m    508\u001b[0m     \u001b[39melse\u001b[39;00m:\n",
      "File \u001b[1;32mc:\\Users\\Steffen\\Documents\\GitHub\\SorpPump\\Python\\Fluids\\NH3H2O.py:504\u001b[0m, in \u001b[0;36mNH3inSolution_Calc_X_PT.<locals>.<lambda>\u001b[1;34m(w)\u001b[0m\n\u001b[0;32m    502\u001b[0m     wNH3 \u001b[39m=\u001b[39m \u001b[39m0\u001b[39m\n\u001b[0;32m    503\u001b[0m \u001b[39melse\u001b[39;00m:\n\u001b[1;32m--> 504\u001b[0m     f \u001b[39m=\u001b[39m \u001b[39mlambda\u001b[39;00m w : pressure \u001b[39m-\u001b[39m Calc_p_from_T_X(Temp,NH3_conversion_w_X(\u001b[39m\"\u001b[39;49m\u001b[39mX\u001b[39;49m\u001b[39m\"\u001b[39;49m, w)) \u001b[39m#- RP.REFPROPdll(hFld=\"AMMONIA;WATER\", hIn=\"TQ\", hOut= \"P\", iUnits=2,iMass=1, iFlag=0, a=Temp, b=0, z=[w, (1-w)]).Output[0]*1000 #\u001b[39;00m\n\u001b[0;32m    505\u001b[0m     \u001b[39mwhile\u001b[39;00m \u001b[39mabs\u001b[39m(f(b))\u001b[39m>\u001b[39m \u001b[39m10\u001b[39m: \u001b[39m# coresponds to 0.1 kPa\u001b[39;00m\n\u001b[0;32m    506\u001b[0m         \u001b[39mif\u001b[39;00m f((a\u001b[39m+\u001b[39mb)\u001b[39m/\u001b[39m\u001b[39m2\u001b[39m)\u001b[39m<\u001b[39m\u001b[39m0\u001b[39m: \u001b[39m# half slitting technique\u001b[39;00m\n",
      "File \u001b[1;32mc:\\Users\\Steffen\\Documents\\GitHub\\SorpPump\\Python\\Fluids\\NH3H2O.py:474\u001b[0m, in \u001b[0;36mCalc_p_from_T_X\u001b[1;34m(T, X, p_start)\u001b[0m\n\u001b[0;32m    472\u001b[0m     p_fit \u001b[39m=\u001b[39m ridder(problem, \u001b[39m100\u001b[39m, \u001b[39m4_000_000\u001b[39m, args\u001b[39m=\u001b[39m(T,X))\n\u001b[0;32m    473\u001b[0m \u001b[39mexcept\u001b[39;00m:\n\u001b[1;32m--> 474\u001b[0m     p_fit \u001b[39m=\u001b[39m bisect(problem, \u001b[39m100\u001b[39;49m, \u001b[39m4_000_000\u001b[39;49m, args\u001b[39m=\u001b[39;49m(T,X))\n\u001b[0;32m    476\u001b[0m \u001b[39mreturn\u001b[39;00m p_fit\n",
      "File \u001b[1;32m~\\AppData\\Local\\Packages\\PythonSoftwareFoundation.Python.3.10_qbz5n2kfra8p0\\LocalCache\\local-packages\\Python310\\site-packages\\scipy\\optimize\\_zeros_py.py:556\u001b[0m, in \u001b[0;36mbisect\u001b[1;34m(f, a, b, args, xtol, rtol, maxiter, full_output, disp)\u001b[0m\n\u001b[0;32m    554\u001b[0m \u001b[39mif\u001b[39;00m rtol \u001b[39m<\u001b[39m _rtol:\n\u001b[0;32m    555\u001b[0m     \u001b[39mraise\u001b[39;00m \u001b[39mValueError\u001b[39;00m(\u001b[39m\"\u001b[39m\u001b[39mrtol too small (\u001b[39m\u001b[39m%g\u001b[39;00m\u001b[39m < \u001b[39m\u001b[39m%g\u001b[39;00m\u001b[39m)\u001b[39m\u001b[39m\"\u001b[39m \u001b[39m%\u001b[39m (rtol, _rtol))\n\u001b[1;32m--> 556\u001b[0m r \u001b[39m=\u001b[39m _zeros\u001b[39m.\u001b[39;49m_bisect(f, a, b, xtol, rtol, maxiter, args, full_output, disp)\n\u001b[0;32m    557\u001b[0m \u001b[39mreturn\u001b[39;00m results_c(full_output, r)\n",
      "\u001b[1;31mValueError\u001b[0m: f(a) and f(b) must have different signs"
     ]
    }
   ],
   "source": [
    "print(\"w mit Druck von Patek:\", NH3H2O.NH3inSolution_Calc_X_PT(p_cond, T_sol_des_outI))"
   ]
  },
  {
   "cell_type": "code",
   "execution_count": 10,
   "metadata": {},
   "outputs": [
    {
     "ename": "TypeError",
     "evalue": "REFPROPInstance.REFPROPdll() missing 1 required positional argument: 'z'",
     "output_type": "error",
     "traceback": [
      "\u001b[1;31m---------------------------------------------------------------------------\u001b[0m",
      "\u001b[1;31mTypeError\u001b[0m                                 Traceback (most recent call last)",
      "Cell \u001b[1;32mIn [10], line 2\u001b[0m\n\u001b[0;32m      1\u001b[0m w_NH3_in \u001b[39m=\u001b[39m \u001b[39m0.5\u001b[39m\n\u001b[1;32m----> 2\u001b[0m w_test_REF_direkt \u001b[39m=\u001b[39m RP\u001b[39m.\u001b[39;49mREFPROPdll(hFld\u001b[39m=\u001b[39;49m\u001b[39m\"\u001b[39;49m\u001b[39mAMMONIA;WATER\u001b[39;49m\u001b[39m\"\u001b[39;49m, hIn\u001b[39m=\u001b[39;49m\u001b[39m\"\u001b[39;49m\u001b[39mPT\u001b[39;49m\u001b[39m\"\u001b[39;49m, hOut\u001b[39m=\u001b[39;49m \u001b[39m\"\u001b[39;49m\u001b[39mXMASS\u001b[39;49m\u001b[39m\"\u001b[39;49m, iUnits\u001b[39m=\u001b[39;49m\u001b[39m2\u001b[39;49m,iMass\u001b[39m=\u001b[39;49m\u001b[39m1\u001b[39;49m, iFlag\u001b[39m=\u001b[39;49m\u001b[39m0\u001b[39;49m, a\u001b[39m=\u001b[39;49mp_cond\u001b[39m/\u001b[39;49m\u001b[39m1000\u001b[39;49m, b\u001b[39m=\u001b[39;49mT_sol_des_outI)\u001b[39m.\u001b[39mOutput[\u001b[39m0\u001b[39m]\n\u001b[0;32m      3\u001b[0m \u001b[39mprint\u001b[39m(w_test_REF_direkt)\n",
      "\u001b[1;31mTypeError\u001b[0m: REFPROPInstance.REFPROPdll() missing 1 required positional argument: 'z'"
     ]
    }
   ],
   "source": [
    "w_NH3_in = 0.5\n",
    "w_test_REF_direkt = RP.REFPROPdll(hFld=\"AMMONIA;WATER\", hIn=\"PT\", hOut= \"XMASS\", iUnits=2,iMass=1, iFlag=0, a=p_cond/1000, b=T_sol_des_outI).Output[0]\n",
    "print(w_test_REF_direkt)"
   ]
  },
  {
   "cell_type": "code",
   "execution_count": null,
   "metadata": {},
   "outputs": [],
   "source": []
  }
 ],
 "metadata": {
  "kernelspec": {
   "display_name": "Python 3",
   "language": "python",
   "name": "python3"
  },
  "language_info": {
   "codemirror_mode": {
    "name": "ipython",
    "version": 3
   },
   "file_extension": ".py",
   "mimetype": "text/x-python",
   "name": "python",
   "nbconvert_exporter": "python",
   "pygments_lexer": "ipython3",
   "version": "3.10.10"
  },
  "orig_nbformat": 4,
  "vscode": {
   "interpreter": {
    "hash": "a8545cf59c7761ad4c7456de60f672ecf3c2f275eac3a32ee329788e746d145e"
   }
  }
 },
 "nbformat": 4,
 "nbformat_minor": 2
}
